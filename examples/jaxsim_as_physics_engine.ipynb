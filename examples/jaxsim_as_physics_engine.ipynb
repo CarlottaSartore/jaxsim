{
 "cells": [
  {
   "cell_type": "markdown",
   "metadata": {
    "id": "H-WgcgGQaTG7"
   },
   "source": [
    "# JaxSim as a hardware-accelerated parallel physics engine\n",
    "\n",
    "This notebook show how to use the key APIs to load a robot model and simulate multiple trajectories in parallel on GPUs.\n",
    "\n",
    "<a target=\"_blank\" href=\"https://colab.research.google.com/github/ami-iit/jaxsim/blob/main/examples/jaxsim_as_physics_engine.ipynb\">\n",
    "  <img src=\"https://colab.research.google.com/assets/colab-badge.svg\" alt=\"Open In Colab\"/>\n",
    "</a>"
   ]
  },
  {
   "cell_type": "markdown",
   "metadata": {
    "id": "SgOSnrSscEkt"
   },
   "source": [
    "## Prepare the environment"
   ]
  },
  {
   "cell_type": "code",
   "execution_count": null,
   "metadata": {
    "id": "fdqvAqMDaTG9"
   },
   "outputs": [],
   "source": [
    "# @title Imports and setup\n",
    "import sys\n",
    "from IPython.display import clear_output\n",
    "\n",
    "IS_COLAB = \"google.colab\" in sys.modules\n",
    "\n",
    "# Install JAX and Gazebo\n",
    "if IS_COLAB:\n",
    "    !{sys.executable} -m pip install --pre -qU jaxsim\n",
    "    !apt install -qq lsb-release wget gnupg\n",
    "    !wget https://packages.osrfoundation.org/gazebo.gpg -O /usr/share/keyrings/pkgs-osrf-archive-keyring.gpg\n",
    "    !echo \"deb [arch=$(dpkg --print-architecture) signed-by=/usr/share/keyrings/pkgs-osrf-archive-keyring.gpg] http://packages.osrfoundation.org/gazebo/ubuntu-stable $(lsb_release -cs) main\" | sudo tee /etc/apt/sources.list.d/gazebo-stable.list > /dev/null\n",
    "    !apt -qq update\n",
    "    !apt install -qq --no-install-recommends libsdformat13 gz-tools2\n",
    "\n",
    "    clear_output()\n",
    "\n",
    "# Set environment variable to avoid GPU out of memory errors\n",
    "%env XLA_PYTHON_CLIENT_MEM_PREALLOCATE=false\n",
    "\n",
    "# ================\n",
    "# Notebook imports\n",
    "# ================\n",
    "\n",
    "import jax\n",
    "import jax.numpy as jnp\n",
    "import jaxsim.api as js\n",
    "from jaxsim import logging\n",
    "import pathlib\n",
    "import tempfile\n",
    "import urllib.request\n",
    "\n",
    "logging.set_logging_level(logging.LoggingLevel.WARNING)\n",
    "print(f\"Running on {jax.devices()}\")"
   ]
  },
  {
   "cell_type": "markdown",
   "metadata": {
    "id": "NqjuZKvOaTG_"
   },
   "source": [
    "## Prepare the simulation\n",
    "\n",
    "JaxSim supports loading robot descriptions from both [SDF][sdformat] and [URDF][urdf] files. In this example, we will load the ergoCub model urdf.\n",
    "\n",
    "[sdformat]: http://sdformat.org/\n",
    "[urdf]: http://wiki.ros.org/urdf/\n",
    "[rod]: https://github.com/ami-iit/rod\n",
    "\n",
    "### Create the model and its data\n",
    " To define a simulation we need two main objects:\n",
    "\n",
    "- `model`: an object that defines the dynamics of the system.\n",
    "- `data`: an object that contains the state of the system.\n",
    "\n",
    "\n",
    "The `JaxSimModel` object contains the simulation time step, the integrator and the contact model.\n",
    "To see the advanced usage, check the advanced example, where you will see how to pass explicitly an integrator class and state to the `model` object and how to change the contact model."
   ]
  },
  {
   "cell_type": "markdown",
   "metadata": {},
   "source": [
    "### Create the model "
   ]
  },
  {
   "cell_type": "code",
   "execution_count": null,
   "metadata": {
    "id": "etQ577cFaTHA"
   },
   "outputs": [],
   "source": [
    "#  Create the JaxSim model.\n",
    "url = \"https://raw.githubusercontent.com/icub-tech-iit/ergocub-software/refs/heads/master/urdf/ergoCub/robots/ergoCubSN001/model.urdf\"\n",
    "# Create a temporary file\n",
    "with tempfile.NamedTemporaryFile(mode=\"w+\", delete=False) as urdf_robot_file:\n",
    "    # Retrieve the file\n",
    "    urllib.request.urlretrieve(url, urdf_robot_file.name)\n",
    "\n",
    "# print(urllib.request.urlretrieve(url, urdf_robot_file.name))\n",
    "model_description_path = pathlib.Path(urdf_robot_file.name)\n",
    "full_model = js.model.JaxSimModel.build_from_model_description(\n",
    "    model_description=model_description_path,\n",
    "    time_step=0.0001,\n",
    "    is_urdf=True\n",
    ")\n",
    "\n",
    "joints_list = tuple(('l_shoulder_pitch', 'l_shoulder_roll', 'l_shoulder_yaw', 'l_elbow',\n",
    "               'r_shoulder_pitch', 'r_shoulder_roll', 'r_shoulder_yaw', 'r_elbow',\n",
    "               'l_hip_pitch', 'l_hip_roll', 'l_hip_yaw', 'l_knee', 'l_ankle_pitch', 'l_ankle_roll',\n",
    "               'r_hip_pitch', 'r_hip_roll', 'r_hip_yaw', 'r_knee', 'r_ankle_pitch', 'r_ankle_roll'))\n",
    "\n",
    "model = js.model.reduce(\n",
    "    model=full_model,\n",
    "    considered_joints=joints_list\n",
    ")\n"
   ]
  },
  {
   "cell_type": "markdown",
   "metadata": {},
   "source": [
    "### Create the data object \n",
    "\n",
    "The data object is never changed by reference. Anytime you call a method aimed at modifying data, like `reset_base_position`, a new data object will be returned with the updated attributes while the original data will not be changed."
   ]
  },
  {
   "cell_type": "code",
   "execution_count": null,
   "metadata": {},
   "outputs": [],
   "source": [
    "# Create the data of a single model.\n",
    "data_zero = js.data.JaxSimModelData.zero(model=model)\n",
    "base_position = jnp.array([0.0, 0.0, 1.0])\n",
    "data = data_zero.reset_base_position(base_position=base_position)  # Note that the reset position returns the updated data object"
   ]
  },
  {
   "cell_type": "markdown",
   "metadata": {},
   "source": [
    "### Simulation"
   ]
  },
  {
   "cell_type": "code",
   "execution_count": null,
   "metadata": {},
   "outputs": [],
   "source": [
    "# Create a random JAX key.\n",
    "\n",
    "key = jax.random.PRNGKey(seed=0)\n",
    "\n",
    "# Initialize the simulated time.\n",
    "T = jnp.arange(start=0, stop=1.0, step=model.time_step)\n",
    "\n",
    "# Simulate\n",
    "for _t in T:\n",
    "    data, _ = js.model.step(\n",
    "        model=model,\n",
    "        data=data,\n",
    "        link_forces=None,\n",
    "        joint_force_references=None,\n",
    "    )"
   ]
  },
  {
   "cell_type": "code",
   "execution_count": null,
   "metadata": {},
   "outputs": [],
   "source": [
    "import jax.numpy as jnp\n",
    "import jaxsim.api as js\n",
    "import icub_models\n",
    "import pathlib\n",
    "\n",
    "# Load the iCub model\n",
    "model_path = icub_models.get_model_file(\"iCubGazeboV2_5\")\n",
    "joints = ('torso_pitch', 'torso_roll', 'torso_yaw', 'l_shoulder_pitch',\n",
    "          'l_shoulder_roll', 'l_shoulder_yaw', 'l_elbow', 'r_shoulder_pitch',\n",
    "          'r_shoulder_roll', 'r_shoulder_yaw', 'r_elbow', 'l_hip_pitch',\n",
    "          'l_hip_roll', 'l_hip_yaw', 'l_knee', 'l_ankle_pitch', 'l_ankle_roll',\n",
    "          'r_hip_pitch', 'r_hip_roll', 'r_hip_yaw', 'r_knee', 'r_ankle_pitch',\n",
    "          'r_ankle_roll')\n",
    "\n",
    "# Build and reduce the model\n",
    "model_description = pathlib.Path(model_path)\n",
    "full_model = js.model.JaxSimModel.build_from_model_description(\n",
    "    model_description=model_description, time_step=0.0001, is_urdf=True\n",
    ")\n",
    "model = js.model.reduce(model=full_model, considered_joints=joints)\n",
    "\n",
    "# Initialize model data\n",
    "data = js.data.JaxSimModelData.zero(model=model).reset_base_position(\n",
    "    base_position=jnp.array([0.0, 0.0, 1.0])\n",
    ")\n",
    "\n",
    "# Frame and dynamics computations\n",
    "frame_index = js.frame.name_to_idx(model=model, frame_name=\"l_foot\")\n",
    "W_H_F = js.frame.transform(model=model, data=data, frame_index=frame_index)  # Frame transformation\n",
    "W_J_F = js.frame.jacobian(model=model, data=data, frame_index=frame_index)  # Frame Jacobian\n",
    "\n",
    "# Dynamics properties\n",
    "M = js.model.free_floating_mass_matrix(model=model, data=data)  # Mass matrix\n",
    "h = js.model.free_floating_bias_forces(model=model, data=data)  # Bias forces\n",
    "g = js.model.free_floating_gravity_forces(model=model, data=data)  # Gravity forces\n",
    "C = js.model.free_floating_coriolis_matrix(model=model, data=data)  # Coriolis matrix\n",
    "\n",
    "# Print dynamics results\n",
    "print(f\"M: shape={M.shape}, h: shape={h.shape}, g: shape={g.shape}, C: shape={C.shape}\")\n"
   ]
  },
  {
   "cell_type": "markdown",
   "metadata": {},
   "source": [
    "### Vectorized simulation \n",
    "\n",
    "We will now vectorize the simulation on batched data using `vmap`"
   ]
  },
  {
   "cell_type": "code",
   "execution_count": null,
   "metadata": {},
   "outputs": [],
   "source": [
    "# first we have to vmap the function\n",
    "\n",
    "import functools\n",
    "from typing import Any\n",
    "\n",
    "\n",
    "@jax.jit\n",
    "def step_single(\n",
    "    model: js.model.JaxSimModel,\n",
    "    data: js.data.JaxSimModelData,\n",
    ") -> tuple[js.data.JaxSimModelData, dict[str, Any]]:\n",
    "\n",
    "    # Close step over static arguments.\n",
    "    return js.model.step(\n",
    "        model=model,\n",
    "        data=data,\n",
    "        link_forces=None,\n",
    "        joint_force_references=None,\n",
    "    )\n",
    "\n",
    "\n",
    "@jax.jit\n",
    "@functools.partial(jax.vmap, in_axes=(None, 0))\n",
    "def step_parallel(\n",
    "    model: js.model.JaxSimModel,\n",
    "    data: js.data.JaxSimModelData,\n",
    ") -> tuple[js.data.JaxSimModelData, dict[str, Any]]:\n",
    "\n",
    "    return step_single(\n",
    "        model=model, data=data\n",
    "    )\n",
    "\n",
    "\n",
    "# Then we have to create the vector of initial state\n",
    "\n",
    "# Split subkeys for sampling random initial data.\n",
    "batch_size = 10\n",
    "key, *subkeys = jax.random.split(key=key, num=batch_size + 1)\n",
    "\n",
    "# Create the batched data.\n",
    "data_batch_t0 = jax.vmap(\n",
    "    lambda key: data_zero.reset_base_position(base_position=jnp.array([0.0, 0.0, 1.0]))\n",
    ")(jnp.vstack(subkeys))\n",
    "\n",
    "data = data_batch_t0\n",
    "for _t in T:\n",
    "    data, _ = step_parallel(model, data)"
   ]
  }
 ],
 "metadata": {
  "accelerator": "GPU",
  "colab": {
   "gpuClass": "premium",
   "private_outputs": true,
   "provenance": [],
   "toc_visible": true
  },
  "kernelspec": {
   "display_name": "jaxsim",
   "language": "python",
   "name": "python3"
  },
  "language_info": {
   "codemirror_mode": {
    "name": "ipython",
    "version": 3
   },
   "file_extension": ".py",
   "mimetype": "text/x-python",
   "name": "python",
   "nbconvert_exporter": "python",
   "pygments_lexer": "ipython3",
   "version": "3.13.0"
  }
 },
 "nbformat": 4,
 "nbformat_minor": 0
}
