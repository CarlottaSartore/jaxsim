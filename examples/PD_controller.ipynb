{
 "cells": [
  {
   "cell_type": "markdown",
   "metadata": {},
   "source": [
    "# `JAXsim` Showcase: PD Controller\n",
    "\n",
    "<a target=\"_blank\" href=\"https://colab.research.google.com/github/flferretti/jaxsim/blob/example/notebook/examples/PD_controller.ipynb\">\n",
    "  <img src=\"https://colab.research.google.com/assets/colab-badge.svg\" alt=\"Open In Colab\"/>\n",
    "</a>\n",
    "\n",
    "First, we install the necessary packages and import them."
   ]
  },
  {
   "cell_type": "code",
   "execution_count": 1,
   "metadata": {},
   "outputs": [
    {
     "name": "stderr",
     "output_type": "stream",
     "text": [
      "\u001b[34mjaxsim[85289]\u001b[0m \u001b[1;30mINFO\u001b[0m Running on [cuda(id=0)]\n"
     ]
    }
   ],
   "source": [
    "from IPython.display import clear_output, HTML\n",
    "\n",
    "# Install JAX and Gazebo\n",
    "!pip install -U -q \"jax[cuda12_pip]\" -f https://storage.googleapis.com/jax-releases/jax_cuda_releases.html\n",
    "!pip install -q git+https://github.com/ami-iit/jaxsim@new_api\n",
    "!apt -qq update && apt install -qq --no-install-recommends gazebo\n",
    "clear_output()\n",
    "\n",
    "import jax\n",
    "import jax.numpy as jnp\n",
    "from jaxsim import logging\n",
    "\n",
    "logging.set_logging_level(logging.LoggingLevel.INFO)\n",
    "logging.info(f\"Running on {jax.devices()}\")"
   ]
  },
  {
   "cell_type": "markdown",
   "metadata": {},
   "source": [
    "We will use a simple cartpole model for this example. The cartpole model is a 2D model with a cart that can move horizontally and a pole that can rotate around the cart. The state of the cartpole is given by the position of the cart, the angle of the pole, the velocity of the cart, and the angular velocity of the pole. The control input is the horizontal force applied to the cart."
   ]
  },
  {
   "cell_type": "code",
   "execution_count": 2,
   "metadata": {},
   "outputs": [],
   "source": [
    "import requests\n",
    "\n",
    "url = \"https://raw.githubusercontent.com/flferretti/jaxsim/example/notebook/examples/assets/cartpole.urdf\"\n",
    "\n",
    "response = requests.get(url)\n",
    "if response.status_code == 200:\n",
    "    model_urdf_path = response.text\n",
    "else:\n",
    "    logging.error(\"Failed to fetch data\")"
   ]
  },
  {
   "cell_type": "markdown",
   "metadata": {},
   "source": [
    "JAXsim offers a simple high-level API in order to extract quantities needed in most robotic applications. "
   ]
  },
  {
   "cell_type": "code",
   "execution_count": 3,
   "metadata": {},
   "outputs": [
    {
     "name": "stderr",
     "output_type": "stream",
     "text": [
      "\u001b[34mjaxsim[85289]\u001b[0m \u001b[1;30mINFO\u001b[0m Combining the pose of base link 'rail' with the pose of joint 'world_to_rail'\n",
      "\u001b[34mjaxsim[85289]\u001b[0m \u001b[1;30mINFO\u001b[0m The kinematic graph doesn't need to be reduced\n"
     ]
    }
   ],
   "source": [
    "from jaxsim.high_level.model import Model\n",
    "\n",
    "model = Model.build_from_model_description(\n",
    "    model_description=model_urdf_path, is_urdf=True\n",
    ")"
   ]
  },
  {
   "cell_type": "markdown",
   "metadata": {},
   "source": [
    "Let's reset the cartpole to a random state."
   ]
  },
  {
   "cell_type": "code",
   "execution_count": 4,
   "metadata": {},
   "outputs": [],
   "source": [
    "random_positions = jax.random.uniform(\n",
    "    minval=-1.0, maxval=1.0, shape=(model.dofs(),), key=jax.random.PRNGKey(0)\n",
    ")\n",
    "\n",
    "model.reset_joint_positions(positions=random_positions)"
   ]
  },
  {
   "cell_type": "markdown",
   "metadata": {},
   "source": [
    "The visualization is done using the [`meshcat-viz-python`](https://github.com/ami-iit/meshcat-viz-python) package. Let's import it and create a `Visualizer` object."
   ]
  },
  {
   "cell_type": "code",
   "execution_count": null,
   "metadata": {},
   "outputs": [],
   "source": [
    "try:\n",
    "    from meshcat_viz.world import MeshcatWorld\n",
    "except:\n",
    "    !pip install -q git+https://github.com/ami-iit/meshcat-viz-python\n",
    "    clear_output()\n",
    "    from meshcat_viz.world import MeshcatWorld\n",
    "\n",
    "from IPython.display import Javascript\n",
    "\n",
    "world = MeshcatWorld()\n",
    "world.meshcat_visualizer.render_static()\n",
    "\n",
    "world.insert_model(\n",
    "    model_description=model_urdf_path, model_name=\"Cartpole\", is_urdf=True\n",
    ")"
   ]
  },
  {
   "cell_type": "markdown",
   "metadata": {},
   "source": [
    "Let's see how the model behaves when not controlled:"
   ]
  },
  {
   "cell_type": "code",
   "execution_count": null,
   "metadata": {},
   "outputs": [],
   "source": [
    "from jaxsim.simulation.ode_integration import IntegratorType\n",
    "\n",
    "for _ in range(200):\n",
    "    model.integrate(t0=0.0, tf=0.01, integrator_type=IntegratorType.EulerSemiImplicit)\n",
    "    \n",
    "    world.update_model(\n",
    "        model_name=\"Cartpole\",\n",
    "        base_position=model.base_position(),\n",
    "        joint_positions=model.joint_positions(),\n",
    "        joint_names=model.joint_names(),\n",
    "    )"
   ]
  },
  {
   "cell_type": "markdown",
   "metadata": {},
   "source": [
    "Let's now define the PD controller. We will use the following equations:\n",
    "\n",
    "\\begin{align} \\tau &= K_p \\left( q_d - q \\right) + K_d \\left( \\dot{q}_d - \\dot{q} \\right) \\end{align}"
   ]
  },
  {
   "cell_type": "code",
   "execution_count": null,
   "metadata": {},
   "outputs": [],
   "source": [
    "# Define the PD gains\n",
    "KP = 10.0\n",
    "KD = 1.0\n",
    "\n",
    "\n",
    "def pd_controller(\n",
    "    q: jax.Array, q_d: jax.Array, q_dot: jax.Array, q_dot_d: jax.Array\n",
    ") -> jax.Array:\n",
    "    return KP * (q_d - q) + KD * (q_dot_d - q_dot)"
   ]
  },
  {
   "cell_type": "markdown",
   "metadata": {},
   "source": [
    "Now, we can use the `pd_controller` function to compute the torque to apply to the cartpole. Our aim is to stabilize the cartpole in the upright position, so we set the desired position `q_d` to 0 and the desired velocity `q_dot_d` to 0."
   ]
  },
  {
   "cell_type": "code",
   "execution_count": null,
   "metadata": {},
   "outputs": [],
   "source": [
    "for _ in range(200):\n",
    "    model.set_joint_generalized_force_targets(\n",
    "        forces=pd_controller(\n",
    "            q=model.joint_positions(),\n",
    "            q_d=jnp.array([0.0, 0.0]),\n",
    "            q_dot=model.joint_velocities(),\n",
    "            q_dot_d=jnp.array([0.0, 0.0]),\n",
    "        )\n",
    "    )\n",
    "\n",
    "    logging.info(f\"Joint generalized forces: {model.data.model_input.tau}\")\n",
    "    \n",
    "    model.integrate(t0=0.0, tf=0.01, integrator_type=IntegratorType.EulerSemiImplicit)\n",
    "    world.update_model(\n",
    "        model_name=\"Cartpole\",\n",
    "        base_position=model.base_position(),\n",
    "        joint_positions=model.joint_positions(),\n",
    "        joint_names=model.joint_names(),\n",
    "    )"
   ]
  }
 ],
 "metadata": {
  "kernelspec": {
   "display_name": "Python 3 (ipykernel)",
   "language": "python",
   "name": "python3"
  },
  "language_info": {
   "codemirror_mode": {
    "name": "ipython",
    "version": 3
   },
   "file_extension": ".py",
   "mimetype": "text/x-python",
   "name": "python",
   "nbconvert_exporter": "python",
   "pygments_lexer": "ipython3",
   "version": "3.11.6"
  }
 },
 "nbformat": 4,
 "nbformat_minor": 4
}
