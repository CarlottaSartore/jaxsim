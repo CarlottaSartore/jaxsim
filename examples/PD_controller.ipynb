{
 "cells": [
  {
   "cell_type": "markdown",
   "metadata": {},
   "source": [
    "# `JAXsim` Showcase: PD Controller\n",
    "\n",
    "<a target=\"_blank\" href=\"https://colab.research.google.com/github/flferretti/jaxsim/blob/example/notebook/examples/PD_controller.ipynb\">\n",
    "  <img src=\"https://colab.research.google.com/assets/colab-badge.svg\" alt=\"Open In Colab\"/>\n",
    "</a>\n",
    "\n",
    "First, we install the necessary packages and import them."
   ]
  },
  {
   "cell_type": "code",
   "execution_count": 1,
   "metadata": {},
   "outputs": [
    {
     "name": "stderr",
     "output_type": "stream",
     "text": [
      "\u001b[34mjaxsim[51171]\u001b[0m \u001b[1;30mINFO\u001b[0m Running on [CpuDevice(id=0)]\n"
     ]
    }
   ],
   "source": [
    "from IPython.display import clear_output\n",
    "\n",
    "%pip install --upgrade -q \"jax[cuda12_pip]\" -f https://storage.googleapis.com/jax-releases/jax_cuda_releases.html\n",
    "%pip install -q git+https://github.com/ami-iit/jaxsim\n",
    "clear_output()\n",
    "\n",
    "import jax\n",
    "import jax.numpy as jnp\n",
    "from jaxsim import logging\n",
    "\n",
    "logging.set_logging_level(logging.LoggingLevel.INFO)\n",
    "logging.info(f\"Running on {jax.devices()}\")"
   ]
  },
  {
   "cell_type": "markdown",
   "metadata": {},
   "source": [
    "We will use a simple cartpole model for this example. The cartpole model is a 2D model with a cart that can move horizontally and a pole that can rotate around the cart. The state of the cartpole is given by the position of the cart, the angle of the pole, the velocity of the cart, and the angular velocity of the pole. The control input is the horizontal force applied to the cart."
   ]
  },
  {
   "cell_type": "code",
   "execution_count": 7,
   "metadata": {},
   "outputs": [],
   "source": [
    "import requests\n",
    "\n",
    "url = \"https://raw.githubusercontent.com/flferretti/jaxsim/example/notebook/examples/assets/cartpole.urdf\"\n",
    "\n",
    "response = requests.get(url)\n",
    "if response.status_code == 200:\n",
    "    model_urdf_path = response.text\n",
    "else:\n",
    "    logging.error(\"Failed to fetch data\")"
   ]
  },
  {
   "cell_type": "markdown",
   "metadata": {},
   "source": [
    "JAXsim offers a simple high-level API in order to extract quantities needed in most robotic applications. "
   ]
  },
  {
   "cell_type": "code",
   "execution_count": 8,
   "metadata": {},
   "outputs": [],
   "source": [
    "from jaxsim.high_level.model import Model"
   ]
  },
  {
   "cell_type": "code",
   "execution_count": 10,
   "metadata": {},
   "outputs": [
    {
     "name": "stderr",
     "output_type": "stream",
     "text": [
      "\u001b[34mjaxsim[51171]\u001b[0m \u001b[1;30mINFO\u001b[0m Combining the pose of base link 'rail' with the pose of joint 'world_to_rail'\n",
      "\u001b[34mjaxsim[51171]\u001b[0m \u001b[1;30mINFO\u001b[0m The kinematic graph doesn't need to be reduced\n"
     ]
    }
   ],
   "source": [
    "model = Model.build_from_model_description(model_description=model_urdf_path, is_urdf=True)"
   ]
  },
  {
   "cell_type": "markdown",
   "metadata": {},
   "source": [
    "The visualization is done using the [`meshcat-viz-python`](https://github.com/ami-iit/meshcat-viz-python) package. Let's import it and create a `Visualizer` object."
   ]
  },
  {
   "cell_type": "code",
   "execution_count": 13,
   "metadata": {},
   "outputs": [
    {
     "name": "stdout",
     "output_type": "stream",
     "text": [
      "You can open the visualizer by visiting the following URL:\n",
      "http://127.0.0.1:7002/static/\n"
     ]
    },
    {
     "name": "stderr",
     "output_type": "stream",
     "text": [
      "\u001b[34mmeshcat_viz[51171]\u001b[0m \u001b[1;30mWARNING\u001b[0m \u001b[33mFailed to find parent element 'world_to_rail' of frame 'world'\u001b[0m\n"
     ]
    },
    {
     "data": {
      "text/plain": [
       "'Cartpole'"
      ]
     },
     "execution_count": 13,
     "metadata": {},
     "output_type": "execute_result"
    }
   ],
   "source": [
    "try:\n",
    "    from meshcat_viz.world import MeshcatWorld\n",
    "except:\n",
    "    %pip install -q git+https://github.com/ami-iit/meshcat-viz-python\n",
    "    from meshcat_viz.world import MeshcatWorld\n",
    "\n",
    "world = MeshcatWorld()\n",
    "world.open()\n",
    "\n",
    "from IPython.display import IFrame\n",
    "IFrame(src=world.web_url, width='100%', height='500px')\n",
    "\n",
    "world.insert_model(\n",
    "    model_description=model_urdf_path, model_name=\"Cartpole\", is_urdf=True\n",
    ")"
   ]
  },
  {
   "cell_type": "markdown",
   "metadata": {},
   "source": [
    "Let's see how the model behaves when not controlled:"
   ]
  },
  {
   "cell_type": "code",
   "execution_count": null,
   "metadata": {},
   "outputs": [],
   "source": [
    "for _ in range(200):\n",
    "    model.integrate(0.01)\n",
    "    world.update_model(model_name=\"Cartpole\", base_position=model.base_position(), joint_positions=model.joint_positions())"
   ]
  },
  {
   "cell_type": "markdown",
   "metadata": {},
   "source": [
    "Let's now define the PD controller. We will use the following equations:\n",
    "\n",
    "\\begin{align} \\tau &= K_p \\left( q_d - q \\right) + K_d \\left( \\dot{q}_d - \\dot{q} \\right) \\end{align}"
   ]
  },
  {
   "cell_type": "code",
   "execution_count": null,
   "metadata": {},
   "outputs": [],
   "source": [
    "def pd_controller(q: jax.Array, q_d: jax.Array, q_dot: jax.Array, q_dot_d: jax.Array) -> jax.Array:\n",
    "    return KP * (q_d - q) + KD * (q_dot_d - q_dot)"
   ]
  },
  {
   "cell_type": "markdown",
   "metadata": {},
   "source": [
    "Now, we can use the `pd_controller` function to compute the torque to apply to the cartpole. Our aim is to stabilize the cartpole in the upright position, so we set the desired position `q_d` to 0 and the desired velocity `q_dot_d` to 0."
   ]
  },
  {
   "cell_type": "code",
   "execution_count": null,
   "metadata": {},
   "outputs": [],
   "source": [
    "for _ in range(200):\n",
    "    model.integrate(0.01)\n",
    "    world.update_model(model_name=\"Cartpole\", base_position=model.base_position(), joint_positions=model.joint_positions())"
   ]
  }
 ],
 "metadata": {
  "kernelspec": {
   "display_name": "jaxsim",
   "language": "python",
   "name": "python3"
  },
  "language_info": {
   "codemirror_mode": {
    "name": "ipython",
    "version": 3
   },
   "file_extension": ".py",
   "mimetype": "text/x-python",
   "name": "python",
   "nbconvert_exporter": "python",
   "pygments_lexer": "ipython3",
   "version": "3.11.6"
  }
 },
 "nbformat": 4,
 "nbformat_minor": 2
}
