{
 "cells": [
  {
   "cell_type": "markdown",
   "metadata": {},
   "source": [
    "# `JAXsim` Showcase: Rigid Body Dynamics\n",
    "\n",
    "First, we install the necessary packages and import them.\n",
    "\n",
    "<a target=\"_blank\" href=\"https://colab.research.google.com/github/ami-iit/jaxsim/blob/main/examples/PD_controller.ipynb\">\n",
    "  <img src=\"https://colab.research.google.com/assets/colab-badge.svg\" alt=\"Open In Colab\"/>\n",
    "</a>"
   ]
  },
  {
   "cell_type": "code",
   "execution_count": null,
   "metadata": {},
   "outputs": [],
   "source": [
    "# @title Imports and setup\n",
    "from IPython.display import clear_output\n",
    "import os\n",
    "import pathlib\n",
    "import sys\n",
    "import robot_descriptions\n",
    "\n",
    "IS_COLAB = \"google.colab\" in sys.modules\n",
    "\n",
    "# Install JAX and Gazebo SDF\n",
    "if IS_COLAB:\n",
    "    !{sys.executable} -m pip install -qU jaxsim\n",
    "    !apt install -qq lsb-release wget gnupg\n",
    "    !wget https://packages.osrfoundation.org/gazebo.gpg -O /usr/share/keyrings/pkgs-osrf-archive-keyring.gpg\n",
    "    !echo \"deb [arch=$(dpkg --print-architecture) signed-by=/usr/share/keyrings/pkgs-osrf-archive-keyring.gpg] http://packages.osrfoundation.org/gazebo/ubuntu-stable $(lsb_release -cs) main\" | sudo tee /etc/apt/sources.list.d/gazebo-stable.list > /dev/null\n",
    "    !apt -qq update\n",
    "    !apt install -qq --no-install-recommends libsdformat13 gz-tools2\n",
    "\n",
    "    clear_output()\n",
    "\n",
    "\n",
    "import jax\n",
    "import jax.numpy as jnp\n",
    "from jaxsim import logging\n",
    "\n",
    "logging.set_logging_level(logging.LoggingLevel.INFO)\n",
    "logging.info(f\"Running on {jax.devices()}\")"
   ]
  },
  {
   "cell_type": "markdown",
   "metadata": {},
   "source": [
    "We will use a model of the [ErgoCub](https://ergocub.eu/) humanoid robot."
   ]
  },
  {
   "cell_type": "code",
   "execution_count": null,
   "metadata": {},
   "outputs": [],
   "source": [
    "# @title Fetch the URDF file\n",
    "try:\n",
    "    os.environ[\"ROBOT_DESCRIPTION_COMMIT\"] = \"v0.7.1\"\n",
    "\n",
    "    import robot_descriptions.ergocub_description\n",
    "\n",
    "finally:\n",
    "    _ = os.environ.pop(\"ROBOT_DESCRIPTION_COMMIT\", None)\n",
    "\n",
    "model_urdf_path = pathlib.Path(\n",
    "    robot_descriptions.ergocub_description.URDF_PATH.replace(\n",
    "        \"ergoCubSN000\", \"ergoCubSN001\"\n",
    "    )\n",
    ")"
   ]
  },
  {
   "cell_type": "markdown",
   "metadata": {},
   "source": [
    "JAXsim offers a simple functional API in order to interact in a memory-efficient way with the simulation. Four main elements are used to define a simulation:\n",
    "\n",
    "- `model`: an object that defines the dynamics of the system.\n",
    "- `data`: an object that contains the state of the system.\n",
    "- `integrator`: an object that defines the integration method.\n",
    "- `integrator_state`: an object that contains the state of the integrator.\n",
    "\n",
    "The last two elements are not going to be used in this example."
   ]
  },
  {
   "cell_type": "code",
   "execution_count": null,
   "metadata": {},
   "outputs": [],
   "source": [
    "import jaxsim.api as js\n",
    "\n",
    "# Create the model from the URDF file.\n",
    "model = js.model.JaxSimModel.build_from_model_description(\n",
    "    model_description=model_urdf_path\n",
    ")"
   ]
  },
  {
   "cell_type": "markdown",
   "metadata": {},
   "source": [
    "It is possible to reduce the model by lumping some links together in order to simplify the computation. "
   ]
  },
  {
   "cell_type": "code",
   "execution_count": null,
   "metadata": {},
   "outputs": [],
   "source": [
    "model = js.model.reduce(\n",
    "    model=model,\n",
    "    considered_joints=tuple(\n",
    "        j\n",
    "        for j in model.joint_names()\n",
    "        if \"camera\" not in j\n",
    "        # Remove head and hands.\n",
    "        and \"neck\" not in j\n",
    "        and \"wrist\" not in j\n",
    "        and \"thumb\" not in j\n",
    "        and \"index\" not in j\n",
    "        and \"middle\" not in j\n",
    "        and \"ring\" not in j\n",
    "        and \"pinkie\" not in j\n",
    "        # Remove upper body.\n",
    "        and \"torso\" not in j and \"elbow\" not in j and \"shoulder\" not in j\n",
    "    ),\n",
    ")"
   ]
  },
  {
   "cell_type": "code",
   "execution_count": null,
   "metadata": {},
   "outputs": [],
   "source": [
    "# Create the data object from the reduced model.\n",
    "data = js.data.random_model_data(model=model)"
   ]
  },
  {
   "cell_type": "markdown",
   "metadata": {},
   "source": [
    "Let's now create a random `references` object. This will be useful to manage the link forces and the torques applied to the joints."
   ]
  },
  {
   "cell_type": "code",
   "execution_count": null,
   "metadata": {},
   "outputs": [],
   "source": [
    "# Create a random link forces matrix.\n",
    "link_forces = jax.random.uniform(\n",
    "    minval=-10.0,\n",
    "    maxval=10.0,\n",
    "    shape=(model.number_of_links(), 6),\n",
    "    key=jax.random.PRNGKey(0),\n",
    ")\n",
    "\n",
    "# Create a random joint forces references vector.\n",
    "joint_force_references = jax.random.uniform(\n",
    "    minval=-10.0, maxval=10.0, shape=(model.dofs(),), key=jax.random.PRNGKey(0)\n",
    ")\n",
    "\n",
    "# Create the references object.\n",
    "references = js.references.JaxSimModelReferences.build(\n",
    "    model=model,\n",
    "    data=data,\n",
    "    link_forces=link_forces,\n",
    "    joint_force_references=joint_force_references,\n",
    ")"
   ]
  },
  {
   "cell_type": "markdown",
   "metadata": {},
   "source": [
    "**Note:**\n",
    "- The argument `joint_force_references` is called `joint_force_references` because the actual joint forces will take into account the effect of the joint frictions."
   ]
  },
  {
   "cell_type": "markdown",
   "metadata": {},
   "source": [
    "## Forward Dynamics\n",
    "\n",
    "We can compute the forward dynamics of the model by inverting the free floating mass matrix, e.g. starting from:\n",
    "\n",
    "$$\n",
    "M(q) \\dot{\\nu} + h(q, \\nu) = B\\tau + J^T(q) f\n",
    "$$\n",
    "\n",
    "we can compute the acceleration $\\dot{\\nu}$ as:\n",
    "\n",
    "$$\n",
    "\\dot{\\nu} = M(q)^{-1} (B\\tau - h(q, \\nu) + J^T(q) f)\n",
    "$$\n",
    "\n",
    "where:\n",
    "- $M(q) \\in \\mathbb{R} ^{6+n \\times 6+n}$ is the mass matrix\n",
    "- $h(q, \\nu) \\in \\mathbb{R} ^{6+n}$ is the bias forces term\n",
    "- $B \\in \\mathbb{R}^{6+n \\times n}$ is the input matrix\n",
    "- $\\tau \\in \\mathbb{R}^n$ is the input torque\n",
    "- $J(q) \\in \\mathbb{R}^{6+n \\times n \\times 6}$ is the Jacobian of the contact points\n",
    "- $f \\in \\mathbb{R}^{6+n}$ is the contact force.\n",
    "\n",
    "Let's now compute the necessary quantities for the forward dynamics of ErgoCub model."
   ]
  },
  {
   "cell_type": "code",
   "execution_count": null,
   "metadata": {},
   "outputs": [],
   "source": [
    "# Compute the free floating mass matrix.\n",
    "M = js.model.free_floating_mass_matrix(model=model, data=data)\n",
    "\n",
    "# Compute the generalized free floating Jacobian matrix.\n",
    "J = js.model.generalized_free_floating_jacobian(model=model, data=data)\n",
    "\n",
    "# Compute the free floating bias forces vector.\n",
    "h = js.model.free_floating_bias_forces(model=model, data=data)\n",
    "\n",
    "# Extract the link forces from the reference object.\n",
    "f_ext = references.link_forces(model=model, data=data)\n",
    "\n",
    "# Extract the random joint forces from the reference object.\n",
    "τ = references.joint_force_references(model=model)\n",
    "\n",
    "# Create a dummy selection matrix.\n",
    "B = jnp.block([jnp.zeros(shape=(model.dofs(), 6)), jnp.eye(model.dofs())]).T"
   ]
  },
  {
   "cell_type": "markdown",
   "metadata": {},
   "source": [
    "We can now finally compute the acceleration of the robot:"
   ]
  },
  {
   "cell_type": "code",
   "execution_count": null,
   "metadata": {},
   "outputs": [],
   "source": [
    "ν̇ = jnp.linalg.inv(M) @ (B @ τ - h + jnp.einsum(\"l6g,l6->g\", J, f_ext))\n",
    "\n",
    "print(f\"Free floating acceleration: \\n{ν̇ }\")"
   ]
  },
  {
   "cell_type": "markdown",
   "metadata": {},
   "source": [
    "We can obtain the same result by using the `jaxsim.api.model` module:"
   ]
  },
  {
   "cell_type": "code",
   "execution_count": null,
   "metadata": {},
   "outputs": [],
   "source": [
    "ν̇ = jnp.concatenate(\n",
    "    js.model.forward_dynamics(\n",
    "        model=model,\n",
    "        data=data,\n",
    "        link_forces=references.link_forces(model=model, data=data),\n",
    "        joint_forces=references.joint_force_references(model=model),\n",
    "    )\n",
    ")\n",
    "\n",
    "print(f\"Free floating acceleration: \\n{ν̇ }\")"
   ]
  },
  {
   "cell_type": "markdown",
   "metadata": {},
   "source": [
    "**Note:**  \n",
    "- `js.model.forward_dynamics` returns a tuple of the base acceleration and the joint accelerations, that's why we use `jnp.concatenate` to concatenate them.\n",
    "- We used `jnp.einsum` to compute $J ^\\top f$ instead of flattening the Jacobian and using `jnp.dot`."
   ]
  },
  {
   "cell_type": "markdown",
   "metadata": {},
   "source": [
    "Other interesting quantities that may be computed are the standalone Coriolis matrix, the centroidal Jacobian matrix and the generalized free floating Jacobian derivative."
   ]
  },
  {
   "cell_type": "code",
   "execution_count": null,
   "metadata": {},
   "outputs": [],
   "source": [
    "# Compute the standalone Coriolis matrix.\n",
    "C = js.model.free_floating_coriolis_matrix(model=model, data=data)\n",
    "\n",
    "# Compute the average centroidal velocity Jacobian.\n",
    "G_J = js.model.average_velocity_jacobian(model=model, data=data)\n",
    "\n",
    "# Compute the generalized free floating Jacobian derivative.\n",
    "J̇ = js.model.generalized_free_floating_jacobian_derivative(model=model, data=data)"
   ]
  },
  {
   "cell_type": "markdown",
   "metadata": {},
   "source": [
    "**Note:**\n",
    "- These last methods are particularly computationally expensive and should be used with caution."
   ]
  },
  {
   "cell_type": "markdown",
   "metadata": {},
   "source": [
    "## Forward Kinematics"
   ]
  },
  {
   "cell_type": "markdown",
   "metadata": {},
   "source": [
    "It is possible to compute the *forward kinematics* of the robot and then extract a link's transform by using its index:"
   ]
  },
  {
   "cell_type": "code",
   "execution_count": null,
   "metadata": {},
   "outputs": [],
   "source": [
    "# Find the link index\n",
    "foot_index = js.link.name_to_idx(model=model, link_name=\"l_ankle_2\")\n",
    "\n",
    "# Extract the link's transform\n",
    "H_L = js.model.forward_kinematics(model=model, data=data)[foot_index]\n",
    "\n",
    "print(f\"Link transform: \\n{H_L}\")"
   ]
  },
  {
   "cell_type": "markdown",
   "metadata": {},
   "source": [
    "or by directly using the `jaxsim.api.link` module:"
   ]
  },
  {
   "cell_type": "code",
   "execution_count": null,
   "metadata": {},
   "outputs": [],
   "source": [
    "H_L = js.link.transform(\n",
    "    model=model,\n",
    "    data=data,\n",
    "    link_index=foot_index,\n",
    ")\n",
    "\n",
    "print(f\"Link transform: \\n{H_L}\")"
   ]
  },
  {
   "cell_type": "markdown",
   "metadata": {},
   "source": [
    "### Computing the link's velocity\n",
    "\n",
    "It is possible to compute the link's velocity by leveraging:\n",
    "\n",
    "$$\n",
    "v _L = J_L \\nu\n",
    "$$\n",
    "    \n",
    "where $J_L$ is the Jacobian of the link and $\\nu$ is the generalized velocity.\n",
    "\n",
    "For the link's Jacobian, we can either extract it from the generalized Jacobian as:"
   ]
  },
  {
   "cell_type": "code",
   "execution_count": null,
   "metadata": {},
   "outputs": [],
   "source": [
    "# Extract the link's Jacobian from the generalized Jacobian\n",
    "J_L = J[foot_index]\n",
    "\n",
    "print(f\"Link Jacobian: \\n{J_L}\")"
   ]
  },
  {
   "cell_type": "markdown",
   "metadata": {},
   "source": [
    "or by using the `jaxsim.api.link` module:"
   ]
  },
  {
   "cell_type": "code",
   "execution_count": null,
   "metadata": {},
   "outputs": [],
   "source": [
    "# Compute the link's Jacobian by using the `js.link` module\n",
    "J_L = js.link.jacobian(model=model, data=data, link_index=foot_index)\n",
    "\n",
    "print(f\"Link Jacobian: \\n{J_L}\")"
   ]
  },
  {
   "cell_type": "markdown",
   "metadata": {},
   "source": [
    "We can then compute the link's velocity as:"
   ]
  },
  {
   "cell_type": "code",
   "execution_count": null,
   "metadata": {},
   "outputs": [],
   "source": [
    "# Extract the floating-base velocity from the data object\n",
    "ν = data.generalized_velocity()\n",
    "\n",
    "# Compute the link's velocity from the generalized velocity\n",
    "v_L = J_L @ ν\n",
    "\n",
    "print(f\"Link Velocity: \\n{v_L}\")"
   ]
  },
  {
   "cell_type": "markdown",
   "metadata": {},
   "source": [
    "or by directly using the `jaxsim.api.link`:"
   ]
  },
  {
   "cell_type": "code",
   "execution_count": null,
   "metadata": {},
   "outputs": [],
   "source": [
    "# Compute the link's velocity by using the `js.link` module\n",
    "v_L = js.link.velocity(model=model, data=data, link_index=foot_index)\n",
    "\n",
    "print(f\"Link Velocity: \\n{v_L}\")"
   ]
  },
  {
   "cell_type": "markdown",
   "metadata": {},
   "source": [
    "## Contact Dynamics\n",
    "\n",
    "### Contact Points Acceleration\n",
    "\n",
    "The contact point acceleration can be calculated as the time derivative of their velocity:\n",
    "\n",
    "$$\n",
    "\\frac{\\partial}{\\partial t} \\dot{p} = \\frac{\\partial}{\\partial t} \\left( J _C \\nu \\right) = \\frac{\\partial J _C}{\\partial t} \\nu + J _C \\frac{\\partial \\nu}{\\partial t}\n",
    "$$\n",
    "\n",
    "which when brings to the following formulation:\n",
    "\n",
    "$$\n",
    "\\ddot{p} = \\dot{J _C}\\nu + J _C \\dot{\\nu}\n",
    "$$\n",
    "\n",
    "The required quantities can be easily computed using the `jaxsim.api.contact` module."
   ]
  },
  {
   "cell_type": "code",
   "execution_count": null,
   "metadata": {},
   "outputs": [],
   "source": [
    "# Compute the Jacobian of the contact points\n",
    "J_C = js.contact.jacobian(model=model, data=data)\n",
    "\n",
    "# Compute the Jacobian derivative of the contact points\n",
    "J̇_C = js.contact.jacobian_derivative(model=model, data=data)\n",
    "\n",
    "# Extract the floating-base velocity from the data object\n",
    "ν = data.generalized_velocity()"
   ]
  },
  {
   "cell_type": "markdown",
   "metadata": {},
   "source": [
    "We already computed $\\nu$ and $\\dot{\\nu}$ from the previous example, so we can now compute the contact points' acceleration:"
   ]
  },
  {
   "cell_type": "code",
   "execution_count": null,
   "metadata": {},
   "outputs": [],
   "source": [
    "a = J̇_C @ ν + J_C @ ν̇\n",
    "\n",
    "print(f\"Contact points acceleration: \\n{a}\")"
   ]
  },
  {
   "cell_type": "markdown",
   "metadata": {},
   "source": [
    "Other useful quantities that can be computed by using the `jaxsim.api.contact` module."
   ]
  },
  {
   "cell_type": "code",
   "execution_count": null,
   "metadata": {},
   "outputs": [],
   "source": [
    "# Compute the contact forces.\n",
    "F_C, _ = js.contact.collidable_point_dynamics(\n",
    "    model=model,\n",
    "    data=data,\n",
    "    link_forces=references.link_forces(model=model, data=data),\n",
    "    joint_force_references=references.joint_force_references(model=model),\n",
    ")\n",
    "\n",
    "# Compute the contact points positions.\n",
    "p_C = js.contact.collidable_point_positions(model=model, data=data)\n",
    "\n",
    "# Compute the contact points velocities.\n",
    "v_C = js.contact.collidable_point_velocities(model=model, data=data)"
   ]
  }
 ],
 "metadata": {
  "kernelspec": {
   "display_name": "jaxsim",
   "language": "python",
   "name": "python3"
  },
  "language_info": {
   "codemirror_mode": {
    "name": "ipython",
    "version": 3
   },
   "file_extension": ".py",
   "mimetype": "text/x-python",
   "name": "python",
   "nbconvert_exporter": "python",
   "pygments_lexer": "ipython3",
   "version": "3.12.7"
  }
 },
 "nbformat": 4,
 "nbformat_minor": 2
}
